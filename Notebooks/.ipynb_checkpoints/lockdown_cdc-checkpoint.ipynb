{
 "cells": [
  {
   "cell_type": "code",
   "execution_count": 12,
   "id": "broke-cooler",
   "metadata": {},
   "outputs": [
    {
     "ename": "ModuleNotFoundError",
     "evalue": "No module named 'pandas'",
     "output_type": "error",
     "traceback": [
      "\u001b[1;31m---------------------------------------------------------------------------\u001b[0m",
      "\u001b[1;31mModuleNotFoundError\u001b[0m                       Traceback (most recent call last)",
      "\u001b[1;32m<ipython-input-12-d20b57bc595f>\u001b[0m in \u001b[0;36m<module>\u001b[1;34m\u001b[0m\n\u001b[0;32m      2\u001b[0m \u001b[1;32mimport\u001b[0m \u001b[0mmatplotlib\u001b[0m\u001b[1;33m.\u001b[0m\u001b[0mpyplot\u001b[0m \u001b[1;32mas\u001b[0m \u001b[0mplt\u001b[0m\u001b[1;33m\u001b[0m\u001b[1;33m\u001b[0m\u001b[0m\n\u001b[0;32m      3\u001b[0m \u001b[1;32mimport\u001b[0m \u001b[0mnumpy\u001b[0m \u001b[1;32mas\u001b[0m \u001b[0mnp\u001b[0m\u001b[1;33m\u001b[0m\u001b[1;33m\u001b[0m\u001b[0m\n\u001b[1;32m----> 4\u001b[1;33m \u001b[1;32mimport\u001b[0m \u001b[0mpandas\u001b[0m \u001b[1;32mas\u001b[0m \u001b[0mpd\u001b[0m\u001b[1;33m\u001b[0m\u001b[1;33m\u001b[0m\u001b[0m\n\u001b[0m\u001b[0;32m      5\u001b[0m \u001b[1;31m#import seaborn as sns\u001b[0m\u001b[1;33m\u001b[0m\u001b[1;33m\u001b[0m\u001b[1;33m\u001b[0m\u001b[0m\n\u001b[0;32m      6\u001b[0m \u001b[1;33m\u001b[0m\u001b[0m\n",
      "\u001b[1;31mModuleNotFoundError\u001b[0m: No module named 'pandas'"
     ]
    }
   ],
   "source": [
    "import matplotlib\n",
    "import matplotlib.pyplot as plt\n",
    "import numpy as np\n",
    "import pandas as pd\n",
    "import seaborn as sns\n",
    "\n",
    "import os\n",
    "import os.path\n",
    "from os import path\n",
    "import pickle\n",
    "import math\n",
    "import graphviz\n",
    "import IPython\n",
    "import sys\n",
    "import platform"
   ]
  },
  {
   "cell_type": "code",
   "execution_count": 2,
   "id": "enhanced-loading",
   "metadata": {},
   "outputs": [],
   "source": [
    "from matplotlib.patches import Patch\n",
    "from matplotlib.lines import Line2D"
   ]
  },
  {
   "cell_type": "code",
   "execution_count": 3,
   "id": "physical-rotation",
   "metadata": {},
   "outputs": [],
   "source": [
    "########################\n",
    "###### Functions ######\n",
    "#######################\n",
    "\n",
    "############# η ##################\n",
    "def fη(γ, β0, F, αS, αI, Z):\n",
    "    return (1 - γ) * (1 + (β0 * F) - αI - (Z * (1 - αI) / (1 - αS)))\n",
    "\n",
    "############ υ ##################\n",
    "def fυ(T, t, ηmin, ηmax, Fmin, ρ):\n",
    "    return ((1 - Fmin) / (ρ * (ηmax - ηmin))) / ((ηmax ** (T - t) - 1)/(ηmax - 1))\n",
    "\n",
    "############# Dynamics #########\n",
    "def fdynamics(υ, U, F, J, U0, γ, β0, Fmin,  ρ, αS, αI, Z, Tdelay):\n",
    "    T = U.shape[0]\n",
    "    print(\"υ, U and F:\")\n",
    "    for zidx in range(Z.shape[0]):\n",
    "        ηmin = fη(γ, β0, Fmin, αS, αI, Z[zidx])\n",
    "        ηmax = fη(γ, β0, 1, αS, αI, Z[zidx])\n",
    "        for t in range(T):\n",
    "            υ[t, zidx] = fυ(T, t, ηmin, ηmax, Fmin, ρ)\n",
    "        for tidx in range(Tdelay.shape[0]):\n",
    "            U[0, tidx, zidx] = U0\n",
    "            for t in range(T-1):\n",
    "                if (U[t, tidx, zidx] >= υ[t, zidx]) and t >= Tdelay[tidx]:\n",
    "                    F[t, tidx, zidx] = Fmin\n",
    "                    U[t+1, tidx, zidx] = ηmin * U[t, tidx, zidx]\n",
    "                else:\n",
    "                    F[t, tidx, zidx] = 1.0\n",
    "                    U[t+1, tidx, zidx] = ηmax * U[t, tidx, zidx]\n",
    "            F[T-1, tidx, zidx] = F[T-2, tidx, zidx]\n",
    "    for zidx in range(Z.shape[0]):\n",
    "        for tidx in range(Tdelay.shape[0]):\n",
    "            J[T-1, tidx, zidx] = ρ * U[T-1, tidx, zidx]\n",
    "            for t in range(T-2,-1, -1):\n",
    "                J[t, tidx, zidx] = (1 - F[t, tidx, zidx]) + ρ * U[t, tidx, zidx] + J[t+1, tidx, zidx]       "
   ]
  },
  {
   "cell_type": "code",
   "execution_count": 4,
   "id": "concerned-valuation",
   "metadata": {},
   "outputs": [],
   "source": [
    "#matplotlib.use(\"pdf\")\n",
    "#matplotlib.use(\"pgf\")\n",
    "# matplotlib.rcParams.update({\n",
    "#     \"pgf.texsystem\": \"pdflatex\",\n",
    "#     'font.family': 'serif',\n",
    "#     'text.usetex': True,\n",
    "#     'pgf.rcfonts': False,\n",
    "# })"
   ]
  },
  {
   "cell_type": "code",
   "execution_count": 5,
   "id": "sustained-yahoo",
   "metadata": {},
   "outputs": [],
   "source": [
    "# def plot_fig1():\n",
    "#     fig, ax11 = plt.subplots(1, 1)\n",
    "#     for zidx in [0, 2]:\n",
    "#         υaux = np.ones((T))\n",
    "#         υaux = np.minimum(υ[:, zidx], υaux)\n",
    "#         ax11.plot(υaux, label='$Z$ = ' + str(Z[zidx]), linewidth=3)\n",
    "#     ax11.set_yscale(\"log\")\n",
    "#     ax11.set_xlabel(r'$t$')\n",
    "#     ax11.set_ylabel(r'$\\upsilon^t$')\n",
    "#     ax11.grid()\n",
    "#     #ax11.legend()\n",
    "#     #plt.show()\n",
    "#     plt.rc('font', size=30)\n",
    "#     plt.rc('axes', labelsize=40) \n",
    "#     plt.savefig(\"fig1.pdf\", transparent=True, bbox_inches='tight')\n",
    "\n",
    "# def plot_fig2():\n",
    "#     fig, ax11 = plt.subplots(1, 1)#plt.subplots(1,1,figsize=(6, 6))\n",
    "#     for zidx in [0, 2]:\n",
    "#         ax11.plot(Tdelay, J[0,:, zidx], label='$Z$ = ' + str(Z[zidx]), linewidth=3)\n",
    "#     ax11.set_yscale(\"log\")\n",
    "#     ax11.set_xlabel(r'$T_{delay}$')\n",
    "#     ax11.set_ylabel(r'$J$')\n",
    "#     ax11.grid()\n",
    "#     ax11.legend()\n",
    "#     #plt.show()\n",
    "#     plt.rc('font', size=30)\n",
    "#     plt.rc('axes', labelsize=40) \n",
    "#     plt.savefig(\"fig2.pdf\", transparent=True, bbox_inches='tight')"
   ]
  },
  {
   "cell_type": "code",
   "execution_count": 37,
   "id": "inclusive-performance",
   "metadata": {},
   "outputs": [],
   "source": [
    "def plot_fig12(xrightlimA, xrightlimB):\n",
    "    plt.rcParams['text.usetex'] = True\n",
    "    fig, (ax1, ax2) = plt.subplots(1, 2, figsize=(2*6.4, 4.8) )\n",
    "    for zidx in [0, 2]:\n",
    "        υaux = np.ones((T))\n",
    "        υaux = np.minimum(υ[:, zidx], υaux)\n",
    "        ax1.plot(υaux, label='$Z$ = ' + str(Z[zidx]), linewidth=5)\n",
    "    ax1.set_yscale(\"log\")\n",
    "    ax1.set_xlabel(r'$t$')\n",
    "    ax1.set_ylabel(r'$\\upsilon^t$', rotation=0, labelpad=-120)\n",
    "    ax1.grid()\n",
    "    ax1.set_xlim(0, xrightlimA)\n",
    "    #ax1.legend()\n",
    "    #plt.show()\n",
    "    plt.rc('font', size=30)\n",
    "    plt.rc('axes', labelsize=40) \n",
    "\n",
    "    for zidx in [0, 2]:\n",
    "        ax2.plot(Tdelay[0:xrightlimB], J[0,0:xrightlimB, zidx], label='$Z$ = ' + str(Z[zidx]), linewidth=5)\n",
    "    ax2.set_yscale(\"log\")\n",
    "    ax2.set_xlabel(r'$T_{\\textrm{delay}}$')\n",
    "    ax2.set_ylabel(r'$J$', rotation=0, labelpad=-85)\n",
    "    ax2.grid()\n",
    "    ax2.set_xlim(0, xrightlimB)\n",
    "    #ax2.legend()\n",
    "    \n",
    "    #ax2.legend(bbox_to_anchor=(1,1), loc=\"upper left\")\n",
    "    #plt.show()\n",
    "    plt.rc('font', size=30)\n",
    "    plt.rc('axes', labelsize=40) \n",
    "\n",
    "    lines, labels = fig.axes[-1].get_legend_handles_labels()\n",
    "    #fig.legend(lines, labels, loc = 'upper center')\n",
    "    \n",
    "    fig.legend(lines, labels, bbox_to_anchor=(0.58, 1.1), loc='upper center', borderaxespad=0.,  ncol=2) #,  mode=\"expand\"\n",
    "    \n",
    "    fig.tight_layout() #h_pad=0\n",
    " \n",
    "    plt.savefig(\"fig2.pdf\", transparent=True, bbox_inches='tight')"
   ]
  },
  {
   "cell_type": "code",
   "execution_count": 38,
   "id": "confirmed-rates",
   "metadata": {},
   "outputs": [
    {
     "name": "stdout",
     "output_type": "stream",
     "text": [
      "υ, U and F:\n"
     ]
    },
    {
     "data": {
      "image/png": "[encoded data removed]",
      "text/plain": [
       "<Figure size 921.6x345.6 with 2 Axes>"
      ]
     },
     "metadata": {
      "needs_background": "light"
     },
     "output_type": "display_data"
    }
   ],
   "source": [
    "##### ##### Parameters ######################\n",
    "#######################################\n",
    "T = 120\n",
    "U0 = 10 ** -4\n",
    "αS = 0.08\n",
    "αI = 0.5\n",
    "γ = 1.0 / 13.0\n",
    "# β = 0.3\n",
    "# f0 = 2\n",
    "Fmin = 0.6\n",
    "ρ = 15 #0.001\n",
    "Z = np.array([0, 0.1, 0.2])\n",
    "Tdelay = np.linspace(0,50,51)\n",
    "β0 = 0.9 # β * f0\n",
    "\n",
    "#######################################\n",
    "### Dynamics objects ##################\n",
    "#######################################\n",
    "υ = np.zeros((T, Z.shape[0]))\n",
    "U = np.zeros((T, Tdelay.shape[0], Z.shape[0]))\n",
    "F = np.zeros((T, Tdelay.shape[0], Z.shape[0])) \n",
    "J = np.zeros((T, Tdelay.shape[0], Z.shape[0])) \n",
    "\n",
    "fdynamics(υ, U, F, J, U0, γ, β0, Fmin, ρ, αS, αI, Z, Tdelay)\n",
    "plot_fig12(T,40)"
   ]
  },
  {
   "cell_type": "code",
   "execution_count": 8,
   "id": "drawn-investment",
   "metadata": {},
   "outputs": [
    {
     "name": "stdout",
     "output_type": "stream",
     "text": [
      "Condition for measures to help: 0.8307692307692308\n",
      "2.1666666666666665\n"
     ]
    }
   ],
   "source": [
    "print('Condition for measures to help: ' + str((1 - γ) * β0 * 1))\n",
    "print((1 - γ) ** -1 * (αI ** -1))"
   ]
  },
  {
   "cell_type": "code",
   "execution_count": 9,
   "id": "vital-cotton",
   "metadata": {},
   "outputs": [],
   "source": [
    "### Contact tracing functions \n",
    "def fbarαΙ(αS, αI, Z):\n",
    "    return (1 - αI) * (1 - Z / (1 - αS))\n",
    "    \n",
    "def fA(A, Ftminus, Ft, γ, β0, αS, αI, Z):\n",
    "    barγ = (1 - γ)\n",
    "    aux = fbarαΙ(αS, αI, Z)\n",
    "    A[0,0] = barγ * (β0 * Ft + aux) \n",
    "    A[0,1] = - (barγ ** 2) * aux * β0 * Ftminus\n",
    "    A[1,0] = 1 - aux\n",
    "    A[1,1] = barγ * aux * β0 * Ftminus\n",
    "    \n",
    "def fQ(calU, T, τ, t, γ, β0, Fmin, ρ, αS, αI, Z, zidx):\n",
    "    ηmin = fη(γ, β0, Fmin, αS, αI, Z[zidx])\n",
    "    ηmax = fη(γ, β0, 1, αS, αI, Z[zidx])\n",
    "    #print(\"ηmin: \" +str(ηmin))\n",
    "    #print(\"ηmax: \" +str(ηmax))\n",
    "    a = 0.0\n",
    "    for i in range(τ-1):\n",
    "        a += ηmin ** i\n",
    "    #print(\"a: \" +str(a))\n",
    "    b = 0.0 \n",
    "    for i in range(T - t - τ):\n",
    "        b += ηmax ** i\n",
    "    b = (ηmin ** τ) * b\n",
    "    #print(\"b: \" +str(a))\n",
    "    Q = τ * (1 - Fmin) +  ρ * calU[0, t, zidx] * (a + b)\n",
    "    return Q\n",
    "\n",
    "def f_if_zero_in_argmin_Q(calU, T, t, γ, β0, Fmin, ρ, αS, αI, Z, zidx):\n",
    "    #print(\"1\")\n",
    "    if_tau_zero = True\n",
    "    Q_zero = fQ(calU, T, 0, t, γ, β0, Fmin, ρ, αS, αI, Z, zidx)\n",
    "    #print(\"2: \" + str(Q_zero))\n",
    "    for τ in range(1, T-t):\n",
    "        #print(\"3a: \" + str(τ))\n",
    "        aux = fQ(calU, T, τ, t, γ, β0, Fmin, ρ, αS, αI, Z, zidx)\n",
    "        #print(\"3b: \" + str(aux))\n",
    "        if Q_zero > aux:\n",
    "            if_tau_zero = False\n",
    "        if not if_tau_zero:\n",
    "            break\n",
    "    return if_tau_zero"
   ]
  },
  {
   "cell_type": "code",
   "execution_count": 10,
   "id": "surprising-married",
   "metadata": {},
   "outputs": [
    {
     "name": "stdout",
     "output_type": "stream",
     "text": [
      "zidx: 0\n",
      "zidx: 1\n",
      "zidx: 2\n"
     ]
    }
   ],
   "source": [
    "##############################################\n",
    "### Dynamics objects contact tracing #########\n",
    "##############################################\n",
    "calU = np.zeros((2, T, Z.shape[0]))\n",
    "A = np.zeros((2,2))\n",
    "Fc = np.zeros((T, Z.shape[0]))\n",
    "Jc = np.zeros((Z.shape[0]))\n",
    "\n",
    "Ftminus = 1\n",
    "for zidx in range(Z.shape[0]):\n",
    "    print(\"zidx: \"+ str(zidx))\n",
    "    calU[:,0,zidx] = [U0, 0]\n",
    "    for t in range(0, T-1):\n",
    "        Ft = Fmin\n",
    "        if f_if_zero_in_argmin_Q(calU, T, t, γ, β0, Fmin, ρ, αS, αI, Z, zidx):\n",
    "            Ft = 1\n",
    "        ZZ = Z[zidx]\n",
    "        fA(A, Ftminus, Ft, γ, β0, αS, αI, ZZ)\n",
    "        calU[:,t+1,zidx] = np.matmul(A, calU[:,t,zidx])\n",
    "        Fc[t, zidx] = Ft\n",
    "        Ftminus = Ft\n",
    "    Fc[T-1, zidx] = Fc[T-2, zidx]\n",
    "\n",
    "for zidx in range(Z.shape[0]):\n",
    "    for t in range(0, T-1):\n",
    "        Jc[zidx] += (1 - Fc[t, zidx]) + ρ * calU[0,t,zidx] \n",
    "    Jc[zidx] += ρ * calU[0,T-1,zidx]"
   ]
  },
  {
   "cell_type": "code",
   "execution_count": 42,
   "id": "eight-administration",
   "metadata": {},
   "outputs": [
    {
     "data": {
      "image/png": "[encoded data removed]",
      "text/plain": [
       "<Figure size 432x288 with 1 Axes>"
      ]
     },
     "metadata": {
      "needs_background": "light"
     },
     "output_type": "display_data"
    }
   ],
   "source": [
    "prop_cycle = plt.rcParams['axes.prop_cycle']\n",
    "colors = prop_cycle.by_key()['color']\n",
    "\n",
    "def plot_fig3():\n",
    "    plt.rcParams['text.usetex'] = True\n",
    "    #plt.rcParams['font.family'] = 'text.usetex'\n",
    "    \n",
    "    fig, ax11 = plt.subplots(1, 1)    \n",
    "    zidx = 0\n",
    "    ax11.plot(U[:,0, zidx], label='$Z$ = ' + str(Z[zidx])+', w/o CT', linewidth=5, c =colors[0]) #\n",
    "    ax11.plot(calU[0,:,zidx], label='$Z$ = ' + str(Z[zidx])+', w/ CT', linewidth=5, linestyle = 'dashed', c =colors[0]) #\n",
    "    \n",
    "    zidx = 2\n",
    "    ax11.plot(U[:,0, zidx], label='$Z$ = ' + str(Z[zidx])+', w/o CT', linewidth=5, c =colors[1])\n",
    "    ax11.plot(calU[0,:,zidx], label='$Z$ = ' + str(Z[zidx])+', w/ CT', linewidth=5, linestyle = 'dashed', c =colors[1])\n",
    "        \n",
    "    ax11.set_yscale(\"log\")\n",
    "    ax11.set_xlabel(r'$t$')\n",
    "    ax11.set_ylabel(r'$U^t$', rotation=0, labelpad=-120)\n",
    "    ax11.yaxis.set_label_coords(0.08,0.35)\n",
    "    ax11.grid()\n",
    "    ax11.set_xlim(0, T)\n",
    "    ax11.legend(bbox_to_anchor=(1,1), loc=\"upper left\")\n",
    "    \n",
    "#     legend_elements = [Line2D([0], [0], color='black', lw=3, label='No CT'),\n",
    "#                        Line2D([0], [0], color='black', lw=3, label='With CT', linestyle = 'dotted')]\n",
    "#     ax11.legend(handles=legend_elements)\n",
    "    \n",
    "    plt.rc('font', size = 30)\n",
    "    plt.rc('axes', labelsize = 40)\n",
    "\n",
    "    plt.savefig(\"fig3.pdf\", transparent=True, bbox_inches='tight')\n",
    "\n",
    "plot_fig3()"
   ]
  },
  {
   "cell_type": "code",
   "execution_count": 65,
   "id": "handed-concord",
   "metadata": {},
   "outputs": [
    {
     "name": "stdout",
     "output_type": "stream",
     "text": [
      " J at T                 & Z = 0.0 & 0.2\n",
      "Without contact tracing & 35.37  & 20.9 \\\\\n",
      "With contact tracing    & 17.61  & 9.61 \\\\\n"
     ]
    }
   ],
   "source": [
    "zidx1 = 0 \n",
    "zidx2 = 2 \n",
    "print(\" J at T                 & Z = \"+ str(Z[zidx1]) + \" & \" +  str(Z[zidx2]))\n",
    "print('Without contact tracing & ' + str(np.round(J[0, 0, zidx1],2)) +'  & ' + str(np.round(J[0, 0, zidx2],2)) +' \\\\' + '\\\\')\n",
    "print('With contact tracing    & ' + str(np.round(Jc[zidx1],2)) +'  & ' + str(np.round(Jc[2],zidx2)) +' \\\\' + '\\\\')"
   ]
  },
  {
   "cell_type": "code",
   "execution_count": 66,
   "id": "monthly-equipment",
   "metadata": {},
   "outputs": [
    {
     "name": "stdout",
     "output_type": "stream",
     "text": [
      "\n",
      " U at T                 & Z = 0.0 & 0.2\n",
      "Without contact tracing & 0.0141384471  & 0.0095250047 \\\\\n",
      "With contact tracing    & 1.556824e-14 & 1.446e-17 \\\\\n"
     ]
    }
   ],
   "source": [
    "zidx1 = 0 \n",
    "zidx2 = 2 \n",
    "print(\"\")\n",
    "print(\" U at T                 & Z = \"+ str(Z[zidx1]) + \" & \" +  str(Z[zidx2]))\n",
    "print('Without contact tracing & ' + str(np.round(U[T-1, 0, zidx1],10)) +'  & ' + str(np.round(U[T-1, 0, zidx2],10)) +' \\\\' + '\\\\')\n",
    "print('With contact tracing    & ' + str(np.round(calU[0,T-1,zidx1],20)) +' & ' + str(np.round(calU[0,T-1,zidx2],20)) +' \\\\' + '\\\\')"
   ]
  },
  {
   "cell_type": "code",
   "execution_count": 40,
   "id": "precious-peace",
   "metadata": {},
   "outputs": [
    {
     "data": {
      "text/plain": [
       "[<matplotlib.lines.Line2D at 0x1f8c37a33c8>,\n",
       " <matplotlib.lines.Line2D at 0x1f8c3642f88>,\n",
       " <matplotlib.lines.Line2D at 0x1f8c37aab88>]"
      ]
     },
     "execution_count": 40,
     "metadata": {},
     "output_type": "execute_result"
    },
    {
     "data": {
      "image/png": "[encoded data removed]",
      "text/plain": [
       "<Figure size 432x288 with 1 Axes>"
      ]
     },
     "metadata": {
      "needs_background": "light"
     },
     "output_type": "display_data"
    }
   ],
   "source": [
    "plt.plot(calU[0,:,:])"
   ]
  },
  {
   "cell_type": "code",
   "execution_count": 26,
   "id": "statewide-scratch",
   "metadata": {},
   "outputs": [
    {
     "data": {
      "text/plain": [
       "array([0.01413845, 0.01413845, 0.01413845, 0.01413845, 0.01413845,\n",
       "       0.01413845, 0.01413845, 0.01413845, 0.01413845, 0.01413845,\n",
       "       0.01413845, 0.01413845, 0.01413845, 0.01413845, 0.01413845,\n",
       "       0.01413845, 0.01413845, 0.01413845, 0.01413845, 0.01413845,\n",
       "       0.01413845, 0.01413845, 0.01413845, 0.01413845, 0.01903252,\n",
       "       0.01903252, 0.01903252, 0.01903252, 0.01903252, 0.01903252,\n",
       "       0.01903252, 0.01903252, 0.02562071, 0.02562071, 0.02562071,\n",
       "       0.03448941, 0.03448941, 0.04642806, 0.06249931, 0.08413368,\n",
       "       0.11325688, 0.15246118, 0.20523621, 0.27627951, 0.37191472])"
      ]
     },
     "execution_count": 26,
     "metadata": {},
     "output_type": "execute_result"
    }
   ],
   "source": [
    "U[T-1, 0:45, 0]"
   ]
  }
 ],
 "metadata": {
  "kernelspec": {
   "display_name": "Python 3",
   "language": "python",
   "name": "python3"
  }
 },
 "nbformat": 4,
 "nbformat_minor": 5
}
